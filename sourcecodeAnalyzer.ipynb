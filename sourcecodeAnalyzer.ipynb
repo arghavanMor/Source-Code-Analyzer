{
 "cells": [
  {
   "cell_type": "code",
   "execution_count": 18,
   "metadata": {},
   "outputs": [],
   "source": [
    "import pandas as pd\n",
    "import numpy as np"
   ]
  },
  {
   "cell_type": "code",
   "execution_count": 2,
   "metadata": {},
   "outputs": [],
   "source": [
    "import tokenize\n",
    "import ast\n",
    "from nltk.tokenize import RegexpTokenizer\n",
    "import astor"
   ]
  },
  {
   "cell_type": "code",
   "execution_count": 20,
   "metadata": {},
   "outputs": [
    {
     "name": "stdout",
     "output_type": "stream",
     "text": [
      "<_ast.Module object at 0x000002B0513C3940>\n"
     ]
    }
   ],
   "source": [
    "tree = ast.parse(\"print('Hello world!')\")\n",
    "print(tree)"
   ]
  },
  {
   "cell_type": "code",
   "execution_count": 21,
   "metadata": {},
   "outputs": [
    {
     "name": "stdout",
     "output_type": "stream",
     "text": [
      "Module(body=[Expr(value=Call(func=Name(id='print', ctx=Load()), args=[Str(s='Hello world!')], keywords=[]))])\n"
     ]
    }
   ],
   "source": [
    "print(ast.dump(tree))"
   ]
  },
  {
   "cell_type": "code",
   "execution_count": 22,
   "metadata": {},
   "outputs": [],
   "source": [
    "class FuncLister(ast.NodeVisitor):\n",
    "    def visit_FunctionDef(self, node):\n",
    "        print(node.name)\n",
    "        self.generic_visit(node)\n",
    "    def visit_ClassDef(self,node):\n",
    "        print(node.name)\n",
    "        self.generic_visit(node)\n",
    "    "
   ]
  },
  {
   "cell_type": "code",
   "execution_count": 3,
   "metadata": {},
   "outputs": [],
   "source": [
    "class FuncParser(ast.NodeVisitor):\n",
    "    def visit_Load(self, node): pass\n",
    "    #def visit_Str(self, node): pass\n",
    "    #def visit_Num(self, node): pass\n",
    "    def visit_Store(self, node): pass\n",
    "    def visit_Module(self, node): \n",
    "        ast.NodeVisitor.generic_visit(self, node)\n",
    "    #def visit_op(self, node): \n",
    "       # ast.NodeVisitor.generic_visit(self, node)\n",
    "    def visit_Call(self, node):\n",
    "        file_contents.append([\"Call\"])\n",
    "        ast.NodeVisitor.generic_visit(self, node)\n",
    "    def visit_Expr(self, node): \n",
    "        ast.NodeVisitor.generic_visit(self, node)\n",
    "    def visit_Assign(self, node): \n",
    "        ast.NodeVisitor.generic_visit(self, node)\n",
    "    def visit_BinOp(self,node):\n",
    "        temp = (node.op)\n",
    "        op = \"BinOp: \"+temp.__class__.__name__ +\"()\"\n",
    "        file_contents.append([op])\n",
    "        ast.NodeVisitor.generic_visit(self, node)\n",
    "    def visit_arg(self, node): \n",
    "        n6 = \"arg:\"+ (node.arg)\n",
    "        file_contents.append([n6])\n",
    "        ast.NodeVisitor.generic_visit(self, node)\n",
    "    def visit_Import(self, node): \n",
    "        ast.NodeVisitor.generic_visit(self, node)\n",
    "    def visit_BoolOp(self,node):\n",
    "        temp = node.op\n",
    "        n4 = \"BoolOp: \"+temp.__class__.__name__ +\"()\"\n",
    "        file_contents.append([n4])\n",
    "        ast.NodeVisitor.generic_visit(self, node)\n",
    "    def visit_keyword(self, node): \n",
    "        file_contents.append([node.arg])\n",
    "        #print (node.arg)\n",
    "        ast.NodeVisitor.generic_visit(self, node)\n",
    "    def visit_ImportFrom(self, node):\n",
    "        n3= (node.__class__.__name__)+\":\"+ (node.module)\n",
    "        file_contents.append([n3])\n",
    "        #print (node.__class__.__name__ ,':' , node.module)\n",
    "        #print (node.module)\n",
    "        ast.NodeVisitor.generic_visit(self, node)\n",
    "    def visit_alias(self, node): \n",
    "        n1 = \"Import:\"+ (node.name)\n",
    "        file_contents.append([n1])\n",
    "        if(node.asname != None):\n",
    "            n2 = \"ImportFrom:\"+ (node.asname)\n",
    "            file_contents.append([n2])\n",
    "        #print ('alias.name:',node.name)\n",
    "        #print ('alias.asname:',node.asname)\n",
    "        ast.NodeVisitor.generic_visit(self, node)\n",
    "    def visit_Name(self, node):\n",
    "        temp =\"Name:\"+node.id\n",
    "        file_contents.append([temp])\n",
    "        #print (node.id)\n",
    "        ast.NodeVisitor.generic_visit(self, node)\n",
    "    def visit_Attribute(self, node): \n",
    "        file_contents.append([node.attr])\n",
    "        #print (node.attr)\n",
    "        ast.NodeVisitor.generic_visit(self, node)\n",
    "    #def visit_orelse(self,node):\n",
    "         #file_contents.append([node.__class__.__name__])\n",
    "   # def visit_Str(self, node): \n",
    "       # print ('Str:', node.s)\n",
    "    def generic_visit(self, node):\n",
    "        file_contents.append([node.__class__.__name__])\n",
    "        #print (node.__class__.__name__)\n",
    "        ast.NodeVisitor.generic_visit(self, node)"
   ]
  },
  {
   "cell_type": "code",
   "execution_count": 223,
   "metadata": {},
   "outputs": [],
   "source": [
    "#with tokenize.open(\"test.py\") as sf:  # need the tokenize.open for source files and not a string\n",
    "    #source_file_contents = sf.read()\n",
    "\n",
    "#module = ast.parse(source_file_contents)\n",
    "#print(ast.dump(code))"
   ]
  },
  {
   "cell_type": "code",
   "execution_count": 22,
   "metadata": {
    "scrolled": false
   },
   "outputs": [
    {
     "name": "stdout",
     "output_type": "stream",
     "text": [
      "Module(body=[FunctionDef(name='Plus', args=arguments(args=[arg(arg='num', annotation=None), arg(arg='index', annotation=None)], vararg=None, kwonlyargs=[], kw_defaults=[], kwarg=None, defaults=[]), body=[Assign(targets=[Name(id='Result', ctx=Store())], value=BinOp(left=Name(id='num', ctx=Load()), op=Add(), right=Subscript(value=Name(id='Dataset', ctx=Load()), slice=Index(value=UnaryOp(op=USub(), operand=Num(n=1))), ctx=Load())))], decorator_list=[], returns=None)])\n"
     ]
    }
   ],
   "source": [
    "print(ast.dump(before))"
   ]
  },
  {
   "cell_type": "code",
   "execution_count": 95,
   "metadata": {},
   "outputs": [
    {
     "name": "stdout",
     "output_type": "stream",
     "text": [
      "FunctionDef\n"
     ]
    }
   ],
   "source": [
    "for node in before.body:\n",
    "    print(node.__class__.__name__)"
   ]
  },
  {
   "cell_type": "code",
   "execution_count": 21,
   "metadata": {},
   "outputs": [],
   "source": [
    "with tokenize.open(\"test.py\") as sf:  # need the tokenize.open for source files and not a string\n",
    "    source_file_before = sf.read()\n",
    "\n",
    "before = ast.parse(source_file_before)"
   ]
  },
  {
   "cell_type": "code",
   "execution_count": 17,
   "metadata": {
    "scrolled": true
   },
   "outputs": [],
   "source": [
    "x = FuncParser()\n",
    "t = ast.parse(before)\n",
    "file_contents = []\n",
    "x.visit(t)"
   ]
  },
  {
   "cell_type": "code",
   "execution_count": 9,
   "metadata": {},
   "outputs": [
    {
     "data": {
      "text/plain": [
       "[['FunctionDef'],\n",
       " ['arguments'],\n",
       " ['arg:i'],\n",
       " ['Name:x'],\n",
       " ['BinOp: Add()'],\n",
       " ['Num'],\n",
       " ['Add'],\n",
       " ['Subscript'],\n",
       " ['Name:Data'],\n",
       " ['Index'],\n",
       " ['Name:i']]"
      ]
     },
     "execution_count": 9,
     "metadata": {},
     "output_type": "execute_result"
    }
   ],
   "source": [
    "file_contents"
   ]
  },
  {
   "cell_type": "code",
   "execution_count": 135,
   "metadata": {},
   "outputs": [
    {
     "name": "stdout",
     "output_type": "stream",
     "text": [
      "Module\n",
      "FunctionDef\n",
      "arguments\n",
      "Assign\n",
      "arg\n",
      "arg\n",
      "Name\n",
      "BinOp\n",
      "Store\n",
      "Name\n",
      "Add\n",
      "Num\n",
      "Load\n"
     ]
    }
   ],
   "source": [
    "for node in ast.walk(t):\n",
    "    print(node.__class__.__name__)"
   ]
  },
  {
   "cell_type": "code",
   "execution_count": 293,
   "metadata": {
    "scrolled": true
   },
   "outputs": [
    {
     "data": {
      "text/html": [
       "<div>\n",
       "<style scoped>\n",
       "    .dataframe tbody tr th:only-of-type {\n",
       "        vertical-align: middle;\n",
       "    }\n",
       "\n",
       "    .dataframe tbody tr th {\n",
       "        vertical-align: top;\n",
       "    }\n",
       "\n",
       "    .dataframe thead th {\n",
       "        text-align: right;\n",
       "    }\n",
       "</style>\n",
       "<table border=\"1\" class=\"dataframe\">\n",
       "  <thead>\n",
       "    <tr style=\"text-align: right;\">\n",
       "      <th></th>\n",
       "      <th>token</th>\n",
       "    </tr>\n",
       "  </thead>\n",
       "  <tbody>\n",
       "    <tr>\n",
       "      <th>keys</th>\n",
       "      <td>4</td>\n",
       "    </tr>\n",
       "    <tr>\n",
       "      <th>FunctionCall</th>\n",
       "      <td>4</td>\n",
       "    </tr>\n",
       "    <tr>\n",
       "      <th>mapping</th>\n",
       "      <td>3</td>\n",
       "    </tr>\n",
       "    <tr>\n",
       "      <th>FunctionDef</th>\n",
       "      <td>1</td>\n",
       "    </tr>\n",
       "    <tr>\n",
       "      <th>OrderedDict</th>\n",
       "      <td>1</td>\n",
       "    </tr>\n",
       "    <tr>\n",
       "      <th>isinstance</th>\n",
       "      <td>1</td>\n",
       "    </tr>\n",
       "    <tr>\n",
       "      <th>BoolOp: Or()</th>\n",
       "      <td>1</td>\n",
       "    </tr>\n",
       "    <tr>\n",
       "      <th>Return</th>\n",
       "      <td>1</td>\n",
       "    </tr>\n",
       "    <tr>\n",
       "      <th>arguments</th>\n",
       "      <td>1</td>\n",
       "    </tr>\n",
       "    <tr>\n",
       "      <th>try_sort</th>\n",
       "      <td>1</td>\n",
       "    </tr>\n",
       "    <tr>\n",
       "      <th>If</th>\n",
       "      <td>1</td>\n",
       "    </tr>\n",
       "    <tr>\n",
       "      <th>list</th>\n",
       "      <td>1</td>\n",
       "    </tr>\n",
       "    <tr>\n",
       "      <th>Or</th>\n",
       "      <td>1</td>\n",
       "    </tr>\n",
       "    <tr>\n",
       "      <th>PY36</th>\n",
       "      <td>1</td>\n",
       "    </tr>\n",
       "  </tbody>\n",
       "</table>\n",
       "</div>"
      ],
      "text/plain": [
       "              token\n",
       "keys              4\n",
       "FunctionCall      4\n",
       "mapping           3\n",
       "FunctionDef       1\n",
       "OrderedDict       1\n",
       "isinstance        1\n",
       "BoolOp: Or()      1\n",
       "Return            1\n",
       "arguments         1\n",
       "try_sort          1\n",
       "If                1\n",
       "list              1\n",
       "Or                1\n",
       "PY36              1"
      ]
     },
     "execution_count": 293,
     "metadata": {},
     "output_type": "execute_result"
    }
   ],
   "source": [
    "dtobj_bfore = pd.DataFrame(file_contents, columns=['token'])\n",
    "\n",
    "t_before =pd.DataFrame(dtobj_bfore['token'].value_counts())\n",
    "t_before"
   ]
  },
  {
   "cell_type": "code",
   "execution_count": 227,
   "metadata": {},
   "outputs": [],
   "source": [
    "with tokenize.open(\"after-commit.py\") as sf:  # need the tokenize.open for source files and not a string\n",
    "    source_file_after = sf.read()\n",
    "\n",
    "after = ast.parse(source_file_after)"
   ]
  },
  {
   "cell_type": "code",
   "execution_count": 296,
   "metadata": {
    "scrolled": false
   },
   "outputs": [
    {
     "name": "stdout",
     "output_type": "stream",
     "text": [
      "Module(body=[FunctionDef(name='dict_keys_to_ordered_list', args=arguments(args=[arg(arg='mapping', annotation=None)], vararg=None, kwonlyargs=[], kw_defaults=[], kwarg=None, defaults=[]), body=[If(test=BoolOp(op=Or(), values=[Name(id='PY36', ctx=Load()), Call(func=Name(id='isinstance', ctx=Load()), args=[Name(id='mapping', ctx=Load()), Name(id='OrderedDict', ctx=Load())], keywords=[])]), body=[Assign(targets=[Name(id='keys', ctx=Store())], value=Call(func=Name(id='list', ctx=Load()), args=[Call(func=Attribute(value=Name(id='mapping', ctx=Load()), attr='keys', ctx=Load()), args=[], keywords=[])], keywords=[]))], orelse=[Assign(targets=[Name(id='keys', ctx=Store())], value=Call(func=Name(id='try_sort', ctx=Load()), args=[Name(id='mapping', ctx=Load())], keywords=[]))]), Return(value=Name(id='keys', ctx=Load()))], decorator_list=[], returns=None)])\n"
     ]
    }
   ],
   "source": [
    "print(ast.dump(before))"
   ]
  },
  {
   "cell_type": "code",
   "execution_count": 269,
   "metadata": {},
   "outputs": [],
   "source": [
    "z = FuncParser()\n",
    "ti = ast.parse(after)\n",
    "file_contents = []\n",
    "x.visit(ti)"
   ]
  },
  {
   "cell_type": "code",
   "execution_count": 270,
   "metadata": {
    "scrolled": true
   },
   "outputs": [
    {
     "data": {
      "text/html": [
       "<div>\n",
       "<style scoped>\n",
       "    .dataframe tbody tr th:only-of-type {\n",
       "        vertical-align: middle;\n",
       "    }\n",
       "\n",
       "    .dataframe tbody tr th {\n",
       "        vertical-align: top;\n",
       "    }\n",
       "\n",
       "    .dataframe thead th {\n",
       "        text-align: right;\n",
       "    }\n",
       "</style>\n",
       "<table border=\"1\" class=\"dataframe\">\n",
       "  <thead>\n",
       "    <tr style=\"text-align: right;\">\n",
       "      <th></th>\n",
       "      <th>token</th>\n",
       "    </tr>\n",
       "  </thead>\n",
       "  <tbody>\n",
       "    <tr>\n",
       "      <th>FunctionCall</th>\n",
       "      <td>85</td>\n",
       "    </tr>\n",
       "    <tr>\n",
       "      <th>Return</th>\n",
       "      <td>48</td>\n",
       "    </tr>\n",
       "    <tr>\n",
       "      <th>If</th>\n",
       "      <td>38</td>\n",
       "    </tr>\n",
       "    <tr>\n",
       "      <th>Str</th>\n",
       "      <td>30</td>\n",
       "    </tr>\n",
       "    <tr>\n",
       "      <th>obj</th>\n",
       "      <td>28</td>\n",
       "    </tr>\n",
       "    <tr>\n",
       "      <th>arguments</th>\n",
       "      <td>28</td>\n",
       "    </tr>\n",
       "    <tr>\n",
       "      <th>FunctionDef</th>\n",
       "      <td>28</td>\n",
       "    </tr>\n",
       "    <tr>\n",
       "      <th>Compare</th>\n",
       "      <td>24</td>\n",
       "    </tr>\n",
       "    <tr>\n",
       "      <th>NameConstant</th>\n",
       "      <td>23</td>\n",
       "    </tr>\n",
       "    <tr>\n",
       "      <th>isinstance</th>\n",
       "      <td>21</td>\n",
       "    </tr>\n",
       "    <tr>\n",
       "      <th>key</th>\n",
       "      <td>17</td>\n",
       "    </tr>\n",
       "    <tr>\n",
       "      <th>np</th>\n",
       "      <td>16</td>\n",
       "    </tr>\n",
       "    <tr>\n",
       "      <th>values</th>\n",
       "      <td>16</td>\n",
       "    </tr>\n",
       "    <tr>\n",
       "      <th>dtype</th>\n",
       "      <td>12</td>\n",
       "    </tr>\n",
       "    <tr>\n",
       "      <th>Tuple</th>\n",
       "      <td>12</td>\n",
       "    </tr>\n",
       "    <tr>\n",
       "      <th>arg</th>\n",
       "      <td>11</td>\n",
       "    </tr>\n",
       "    <tr>\n",
       "      <th>labels</th>\n",
       "      <td>11</td>\n",
       "    </tr>\n",
       "    <tr>\n",
       "      <th>list</th>\n",
       "      <td>10</td>\n",
       "    </tr>\n",
       "    <tr>\n",
       "      <th>into</th>\n",
       "      <td>10</td>\n",
       "    </tr>\n",
       "    <tr>\n",
       "      <th>comprehension</th>\n",
       "      <td>9</td>\n",
       "    </tr>\n",
       "    <tr>\n",
       "      <th>value</th>\n",
       "      <td>9</td>\n",
       "    </tr>\n",
       "    <tr>\n",
       "      <th>BoolOp: And()</th>\n",
       "      <td>9</td>\n",
       "    </tr>\n",
       "    <tr>\n",
       "      <th>And</th>\n",
       "      <td>9</td>\n",
       "    </tr>\n",
       "    <tr>\n",
       "      <th>Not</th>\n",
       "      <td>8</td>\n",
       "    </tr>\n",
       "    <tr>\n",
       "      <th>args</th>\n",
       "      <td>8</td>\n",
       "    </tr>\n",
       "    <tr>\n",
       "      <th>Eq</th>\n",
       "      <td>8</td>\n",
       "    </tr>\n",
       "    <tr>\n",
       "      <th>UnaryOp</th>\n",
       "      <td>8</td>\n",
       "    </tr>\n",
       "    <tr>\n",
       "      <th>Is</th>\n",
       "      <td>7</td>\n",
       "    </tr>\n",
       "    <tr>\n",
       "      <th>Subscript</th>\n",
       "      <td>7</td>\n",
       "    </tr>\n",
       "    <tr>\n",
       "      <th>name</th>\n",
       "      <td>7</td>\n",
       "    </tr>\n",
       "    <tr>\n",
       "      <th>...</th>\n",
       "      <td>...</td>\n",
       "    </tr>\n",
       "    <tr>\n",
       "      <th>Import:ABCIndex</th>\n",
       "      <td>1</td>\n",
       "    </tr>\n",
       "    <tr>\n",
       "      <th>sorted</th>\n",
       "      <td>1</td>\n",
       "    </tr>\n",
       "    <tr>\n",
       "      <th>Import:_iterable_not_string</th>\n",
       "      <td>1</td>\n",
       "    </tr>\n",
       "    <tr>\n",
       "      <th>Import:is_integer</th>\n",
       "      <td>1</td>\n",
       "    </tr>\n",
       "    <tr>\n",
       "      <th>ABCIndexClass</th>\n",
       "      <td>1</td>\n",
       "    </tr>\n",
       "    <tr>\n",
       "      <th>Mod</th>\n",
       "      <td>1</td>\n",
       "    </tr>\n",
       "    <tr>\n",
       "      <th>is_bool_array</th>\n",
       "      <td>1</td>\n",
       "    </tr>\n",
       "    <tr>\n",
       "      <th>is_array_like</th>\n",
       "      <td>1</td>\n",
       "    </tr>\n",
       "    <tr>\n",
       "      <th>Import:collections</th>\n",
       "      <td>1</td>\n",
       "    </tr>\n",
       "    <tr>\n",
       "      <th>Warning</th>\n",
       "      <td>1</td>\n",
       "    </tr>\n",
       "    <tr>\n",
       "      <th>is_bool_dtype</th>\n",
       "      <td>1</td>\n",
       "    </tr>\n",
       "    <tr>\n",
       "      <th>d</th>\n",
       "      <td>1</td>\n",
       "    </tr>\n",
       "    <tr>\n",
       "      <th>get_callable_name</th>\n",
       "      <td>1</td>\n",
       "    </tr>\n",
       "    <tr>\n",
       "      <th>Import:abc</th>\n",
       "      <td>1</td>\n",
       "    </tr>\n",
       "    <tr>\n",
       "      <th>Import:ABCIndexClass</th>\n",
       "      <td>1</td>\n",
       "    </tr>\n",
       "    <tr>\n",
       "      <th>timedelta64</th>\n",
       "      <td>1</td>\n",
       "    </tr>\n",
       "    <tr>\n",
       "      <th>NotEq</th>\n",
       "      <td>1</td>\n",
       "    </tr>\n",
       "    <tr>\n",
       "      <th>Import:lib</th>\n",
       "      <td>1</td>\n",
       "    </tr>\n",
       "    <tr>\n",
       "      <th>Slice</th>\n",
       "      <td>1</td>\n",
       "    </tr>\n",
       "    <tr>\n",
       "      <th>ImportFrom:pandas.core.dtypes.missing</th>\n",
       "      <td>1</td>\n",
       "    </tr>\n",
       "    <tr>\n",
       "      <th>indexer</th>\n",
       "      <td>1</td>\n",
       "    </tr>\n",
       "    <tr>\n",
       "      <th>Import:numpy</th>\n",
       "      <td>1</td>\n",
       "    </tr>\n",
       "    <tr>\n",
       "      <th>Timedelta</th>\n",
       "      <td>1</td>\n",
       "    </tr>\n",
       "    <tr>\n",
       "      <th>is_integer</th>\n",
       "      <td>1</td>\n",
       "    </tr>\n",
       "    <tr>\n",
       "      <th>ImportFrom:pandas.core.dtypes.common</th>\n",
       "      <td>1</td>\n",
       "    </tr>\n",
       "    <tr>\n",
       "      <th>bool</th>\n",
       "      <td>1</td>\n",
       "    </tr>\n",
       "    <tr>\n",
       "      <th>Sized</th>\n",
       "      <td>1</td>\n",
       "    </tr>\n",
       "    <tr>\n",
       "      <th>sum</th>\n",
       "      <td>1</td>\n",
       "    </tr>\n",
       "    <tr>\n",
       "      <th>flatten</th>\n",
       "      <td>1</td>\n",
       "    </tr>\n",
       "    <tr>\n",
       "      <th>Import:tslibs</th>\n",
       "      <td>1</td>\n",
       "    </tr>\n",
       "  </tbody>\n",
       "</table>\n",
       "<p>181 rows × 1 columns</p>\n",
       "</div>"
      ],
      "text/plain": [
       "                                       token\n",
       "FunctionCall                              85\n",
       "Return                                    48\n",
       "If                                        38\n",
       "Str                                       30\n",
       "obj                                       28\n",
       "arguments                                 28\n",
       "FunctionDef                               28\n",
       "Compare                                   24\n",
       "NameConstant                              23\n",
       "isinstance                                21\n",
       "key                                       17\n",
       "np                                        16\n",
       "values                                    16\n",
       "dtype                                     12\n",
       "Tuple                                     12\n",
       "arg                                       11\n",
       "labels                                    11\n",
       "list                                      10\n",
       "into                                      10\n",
       "comprehension                              9\n",
       "value                                      9\n",
       "BoolOp: And()                              9\n",
       "And                                        9\n",
       "Not                                        8\n",
       "args                                       8\n",
       "Eq                                         8\n",
       "UnaryOp                                    8\n",
       "Is                                         7\n",
       "Subscript                                  7\n",
       "name                                       7\n",
       "...                                      ...\n",
       "Import:ABCIndex                            1\n",
       "sorted                                     1\n",
       "Import:_iterable_not_string                1\n",
       "Import:is_integer                          1\n",
       "ABCIndexClass                              1\n",
       "Mod                                        1\n",
       "is_bool_array                              1\n",
       "is_array_like                              1\n",
       "Import:collections                         1\n",
       "Warning                                    1\n",
       "is_bool_dtype                              1\n",
       "d                                          1\n",
       "get_callable_name                          1\n",
       "Import:abc                                 1\n",
       "Import:ABCIndexClass                       1\n",
       "timedelta64                                1\n",
       "NotEq                                      1\n",
       "Import:lib                                 1\n",
       "Slice                                      1\n",
       "ImportFrom:pandas.core.dtypes.missing      1\n",
       "indexer                                    1\n",
       "Import:numpy                               1\n",
       "Timedelta                                  1\n",
       "is_integer                                 1\n",
       "ImportFrom:pandas.core.dtypes.common       1\n",
       "bool                                       1\n",
       "Sized                                      1\n",
       "sum                                        1\n",
       "flatten                                    1\n",
       "Import:tslibs                              1\n",
       "\n",
       "[181 rows x 1 columns]"
      ]
     },
     "execution_count": 270,
     "metadata": {},
     "output_type": "execute_result"
    }
   ],
   "source": [
    "dtobj_after = pd.DataFrame(file_contents, columns=['token'])\n",
    "\n",
    "t_after =pd.DataFrame(dtobj_after['token'].value_counts())\n",
    "t_after"
   ]
  },
  {
   "cell_type": "code",
   "execution_count": 271,
   "metadata": {},
   "outputs": [],
   "source": [
    "df = t_after.subtract(t_before)"
   ]
  },
  {
   "cell_type": "code",
   "execution_count": 279,
   "metadata": {},
   "outputs": [
    {
     "data": {
      "text/html": [
       "<div>\n",
       "<style scoped>\n",
       "    .dataframe tbody tr th:only-of-type {\n",
       "        vertical-align: middle;\n",
       "    }\n",
       "\n",
       "    .dataframe tbody tr th {\n",
       "        vertical-align: top;\n",
       "    }\n",
       "\n",
       "    .dataframe thead th {\n",
       "        text-align: right;\n",
       "    }\n",
       "</style>\n",
       "<table border=\"1\" class=\"dataframe\">\n",
       "  <thead>\n",
       "    <tr style=\"text-align: right;\">\n",
       "      <th></th>\n",
       "      <th>token</th>\n",
       "    </tr>\n",
       "  </thead>\n",
       "  <tbody>\n",
       "    <tr>\n",
       "      <th>BoolOp: Or()</th>\n",
       "      <td>1.0</td>\n",
       "    </tr>\n",
       "    <tr>\n",
       "      <th>FunctionCall</th>\n",
       "      <td>4.0</td>\n",
       "    </tr>\n",
       "    <tr>\n",
       "      <th>FunctionDef</th>\n",
       "      <td>1.0</td>\n",
       "    </tr>\n",
       "    <tr>\n",
       "      <th>If</th>\n",
       "      <td>1.0</td>\n",
       "    </tr>\n",
       "    <tr>\n",
       "      <th>Import:OrderedDict</th>\n",
       "      <td>0.0</td>\n",
       "    </tr>\n",
       "    <tr>\n",
       "      <th>Import:PY36</th>\n",
       "      <td>0.0</td>\n",
       "    </tr>\n",
       "    <tr>\n",
       "      <th>ImportFrom:pandas.compat</th>\n",
       "      <td>0.0</td>\n",
       "    </tr>\n",
       "    <tr>\n",
       "      <th>Or</th>\n",
       "      <td>1.0</td>\n",
       "    </tr>\n",
       "    <tr>\n",
       "      <th>OrderedDict</th>\n",
       "      <td>0.0</td>\n",
       "    </tr>\n",
       "    <tr>\n",
       "      <th>PY36</th>\n",
       "      <td>0.0</td>\n",
       "    </tr>\n",
       "    <tr>\n",
       "      <th>Return</th>\n",
       "      <td>1.0</td>\n",
       "    </tr>\n",
       "    <tr>\n",
       "      <th>arguments</th>\n",
       "      <td>1.0</td>\n",
       "    </tr>\n",
       "    <tr>\n",
       "      <th>isinstance</th>\n",
       "      <td>1.0</td>\n",
       "    </tr>\n",
       "    <tr>\n",
       "      <th>keys</th>\n",
       "      <td>0.0</td>\n",
       "    </tr>\n",
       "    <tr>\n",
       "      <th>list</th>\n",
       "      <td>1.0</td>\n",
       "    </tr>\n",
       "    <tr>\n",
       "      <th>mapping</th>\n",
       "      <td>0.0</td>\n",
       "    </tr>\n",
       "    <tr>\n",
       "      <th>try_sort</th>\n",
       "      <td>0.0</td>\n",
       "    </tr>\n",
       "  </tbody>\n",
       "</table>\n",
       "</div>"
      ],
      "text/plain": [
       "                          token\n",
       "BoolOp: Or()                1.0\n",
       "FunctionCall                4.0\n",
       "FunctionDef                 1.0\n",
       "If                          1.0\n",
       "Import:OrderedDict          0.0\n",
       "Import:PY36                 0.0\n",
       "ImportFrom:pandas.compat    0.0\n",
       "Or                          1.0\n",
       "OrderedDict                 0.0\n",
       "PY36                        0.0\n",
       "Return                      1.0\n",
       "arguments                   1.0\n",
       "isinstance                  1.0\n",
       "keys                        0.0\n",
       "list                        1.0\n",
       "mapping                     0.0\n",
       "try_sort                    0.0"
      ]
     },
     "execution_count": 279,
     "metadata": {},
     "output_type": "execute_result"
    }
   ],
   "source": [
    "diff= df[(df.select_dtypes(include=['number']) != 0).any(1)]\n",
    "diff=diff.fillna(0)\n",
    "diff.abs()"
   ]
  },
  {
   "cell_type": "code",
   "execution_count": 282,
   "metadata": {},
   "outputs": [],
   "source": [
    "df2 = t_after.subtract(t_before)"
   ]
  },
  {
   "cell_type": "code",
   "execution_count": 283,
   "metadata": {},
   "outputs": [
    {
     "data": {
      "text/html": [
       "<div>\n",
       "<style scoped>\n",
       "    .dataframe tbody tr th:only-of-type {\n",
       "        vertical-align: middle;\n",
       "    }\n",
       "\n",
       "    .dataframe tbody tr th {\n",
       "        vertical-align: top;\n",
       "    }\n",
       "\n",
       "    .dataframe thead th {\n",
       "        text-align: right;\n",
       "    }\n",
       "</style>\n",
       "<table border=\"1\" class=\"dataframe\">\n",
       "  <thead>\n",
       "    <tr style=\"text-align: right;\">\n",
       "      <th></th>\n",
       "      <th>token</th>\n",
       "    </tr>\n",
       "  </thead>\n",
       "  <tbody>\n",
       "    <tr>\n",
       "      <th>BoolOp: Or()</th>\n",
       "      <td>-1.0</td>\n",
       "    </tr>\n",
       "    <tr>\n",
       "      <th>FunctionCall</th>\n",
       "      <td>-4.0</td>\n",
       "    </tr>\n",
       "    <tr>\n",
       "      <th>FunctionDef</th>\n",
       "      <td>-1.0</td>\n",
       "    </tr>\n",
       "    <tr>\n",
       "      <th>If</th>\n",
       "      <td>-1.0</td>\n",
       "    </tr>\n",
       "    <tr>\n",
       "      <th>Import:OrderedDict</th>\n",
       "      <td>NaN</td>\n",
       "    </tr>\n",
       "    <tr>\n",
       "      <th>Import:PY36</th>\n",
       "      <td>NaN</td>\n",
       "    </tr>\n",
       "    <tr>\n",
       "      <th>ImportFrom:pandas.compat</th>\n",
       "      <td>NaN</td>\n",
       "    </tr>\n",
       "    <tr>\n",
       "      <th>Or</th>\n",
       "      <td>-1.0</td>\n",
       "    </tr>\n",
       "    <tr>\n",
       "      <th>OrderedDict</th>\n",
       "      <td>NaN</td>\n",
       "    </tr>\n",
       "    <tr>\n",
       "      <th>PY36</th>\n",
       "      <td>NaN</td>\n",
       "    </tr>\n",
       "    <tr>\n",
       "      <th>Return</th>\n",
       "      <td>-1.0</td>\n",
       "    </tr>\n",
       "    <tr>\n",
       "      <th>arguments</th>\n",
       "      <td>-1.0</td>\n",
       "    </tr>\n",
       "    <tr>\n",
       "      <th>isinstance</th>\n",
       "      <td>-1.0</td>\n",
       "    </tr>\n",
       "    <tr>\n",
       "      <th>keys</th>\n",
       "      <td>NaN</td>\n",
       "    </tr>\n",
       "    <tr>\n",
       "      <th>list</th>\n",
       "      <td>-1.0</td>\n",
       "    </tr>\n",
       "    <tr>\n",
       "      <th>mapping</th>\n",
       "      <td>NaN</td>\n",
       "    </tr>\n",
       "    <tr>\n",
       "      <th>try_sort</th>\n",
       "      <td>NaN</td>\n",
       "    </tr>\n",
       "  </tbody>\n",
       "</table>\n",
       "</div>"
      ],
      "text/plain": [
       "                          token\n",
       "BoolOp: Or()               -1.0\n",
       "FunctionCall               -4.0\n",
       "FunctionDef                -1.0\n",
       "If                         -1.0\n",
       "Import:OrderedDict          NaN\n",
       "Import:PY36                 NaN\n",
       "ImportFrom:pandas.compat    NaN\n",
       "Or                         -1.0\n",
       "OrderedDict                 NaN\n",
       "PY36                        NaN\n",
       "Return                     -1.0\n",
       "arguments                  -1.0\n",
       "isinstance                 -1.0\n",
       "keys                        NaN\n",
       "list                       -1.0\n",
       "mapping                     NaN\n",
       "try_sort                    NaN"
      ]
     },
     "execution_count": 283,
     "metadata": {},
     "output_type": "execute_result"
    }
   ],
   "source": [
    "df2[(df2.select_dtypes(include=['number']) != 0).any(1)]"
   ]
  },
  {
   "cell_type": "code",
   "execution_count": 171,
   "metadata": {},
   "outputs": [
    {
     "name": "stdout",
     "output_type": "stream",
     "text": [
      "FuncLister\n",
      "visit_FunctionDef\n"
     ]
    }
   ],
   "source": [
    "for node in ast.walk(module):\n",
    "    if isinstance(node, ast.ClassDef):\n",
    "        print(node.name)\n",
    "    elif isinstance(node, ast.FunctionDef):\n",
    "            print(node.name)"
   ]
  },
  {
   "cell_type": "code",
   "execution_count": 452,
   "metadata": {},
   "outputs": [],
   "source": [
    " # need the tokenize.open for source files and not a string\n",
    "    \n",
    "    #print(file_contents)\n",
    "    #code = parser.suite(file_contents)\n",
    "\n",
    "#code = ast.parse(file_contents)\n",
    "\n",
    "#code = ast.parse('if name.islower() and not name.startswith(__) and callable(models.__dict__[name]')"
   ]
  },
  {
   "cell_type": "code",
   "execution_count": 486,
   "metadata": {},
   "outputs": [],
   "source": [
    "\n",
    "cnt = 1\n",
    "#num_lines = sum(1 for line in open('test.py') if line.rstrip())\n",
    "#file_contents=['none']*num_lines\n",
    "file_contents = []\n",
    "with open(\"test.py\") as sf:\n",
    "    for cnt,line in enumerate(sf):\n",
    "        file_contents.append(line)\n"
   ]
  },
  {
   "cell_type": "code",
   "execution_count": 487,
   "metadata": {},
   "outputs": [
    {
     "data": {
      "text/plain": [
       "[' idxpos = find_valid_index(self._values, how)\\n',\n",
       " '        if idxpos is None:']"
      ]
     },
     "execution_count": 487,
     "metadata": {},
     "output_type": "execute_result"
    }
   ],
   "source": [
    "file_contents"
   ]
  },
  {
   "cell_type": "code",
   "execution_count": null,
   "metadata": {},
   "outputs": [],
   "source": []
  },
  {
   "cell_type": "code",
   "execution_count": 108,
   "metadata": {},
   "outputs": [],
   "source": [
    "class v(ast.NodeVisitor):\n",
    "    def generic_visit(self,node):\n",
    "        print(node.name)\n",
    "        ast.NodeVisitor.generic_visit(self,node)"
   ]
  },
  {
   "cell_type": "code",
   "execution_count": 121,
   "metadata": {},
   "outputs": [],
   "source": [
    "x = v()\n",
    "t = ast.parse(\"d[x] += v[y, x]\")"
   ]
  },
  {
   "cell_type": "code",
   "execution_count": 122,
   "metadata": {},
   "outputs": [
    {
     "name": "stdout",
     "output_type": "stream",
     "text": [
      "Module(body=[AugAssign(target=Subscript(value=Name(id='d', ctx=Load()), slice=Index(value=Name(id='x', ctx=Load())), ctx=Store()), op=Add(), value=Subscript(value=Name(id='v', ctx=Load()), slice=Index(value=Tuple(elts=[Name(id='y', ctx=Load()), Name(id='x', ctx=Load())], ctx=Load())), ctx=Load()))])\n"
     ]
    }
   ],
   "source": [
    "print(ast.dump(t))"
   ]
  },
  {
   "cell_type": "code",
   "execution_count": 12,
   "metadata": {},
   "outputs": [],
   "source": [
    "import tokenize\n",
    "import token"
   ]
  },
  {
   "cell_type": "code",
   "execution_count": 13,
   "metadata": {},
   "outputs": [],
   "source": [
    "tokens = tokenize.generate_tokens(\"before-commit.py\")"
   ]
  },
  {
   "cell_type": "code",
   "execution_count": 14,
   "metadata": {},
   "outputs": [
    {
     "name": "stdout",
     "output_type": "stream",
     "text": [
      "<generator object <genexpr> at 0x000002B04F4FE048>\n"
     ]
    }
   ],
   "source": [
    " print (t.type for t in tokens)"
   ]
  },
  {
   "cell_type": "code",
   "execution_count": 12,
   "metadata": {},
   "outputs": [
    {
     "name": "stdout",
     "output_type": "stream",
     "text": [
      "['utf-8', 'def', 'plus', '(', 'i', ')', ':', '\\r\\n', ' ', 'x', '=', '243', '+', 'Data', '[', 'i', ']', '', '', '']\n"
     ]
    }
   ],
   "source": [
    "tokens = []\n",
    "with open('test.py', 'rb') as f:\n",
    "    for five_tuple in tokenize.tokenize(f.readline):\n",
    "        tokens.append(five_tuple.string)\n",
    "print(tokens)\n",
    "        #token.tok_name[five_tuple.type],\",\"\n",
    "        #print(five_tuple.type)\n",
    "        #print(five_tuple.string)\n",
    "        #print(five_tuple.start)\n",
    "       # print(five_tuple.end)\n",
    "       # print(five_tuple.line)"
   ]
  }
 ],
 "metadata": {
  "kernelspec": {
   "display_name": "Python 3",
   "language": "python",
   "name": "python3"
  },
  "language_info": {
   "codemirror_mode": {
    "name": "ipython",
    "version": 3
   },
   "file_extension": ".py",
   "mimetype": "text/x-python",
   "name": "python",
   "nbconvert_exporter": "python",
   "pygments_lexer": "ipython3",
   "version": "3.7.4"
  }
 },
 "nbformat": 4,
 "nbformat_minor": 2
}
